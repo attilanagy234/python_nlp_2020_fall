{
 "cells": [
  {
   "cell_type": "markdown",
   "metadata": {},
   "source": [
    "# Introduction to Python and Natural Language Technologies\n",
    "\n",
    "__Lecture 04, List comprehension, iteration, context managers, functional Python__\n",
    "\n",
    "__October 7, 2020__\n",
    "\n",
    "__Judit Ács__"
   ]
  },
  {
   "cell_type": "markdown",
   "metadata": {},
   "source": [
    "# List comprehension\n",
    "\n",
    "- Transform any iterable into a list in one line.\n",
    "- Syntactic sugar, could be replaced with a for loop.\n",
    "- Example: create a list of the first N odd numbers starting from 1"
   ]
  },
  {
   "cell_type": "code",
   "execution_count": 1,
   "metadata": {},
   "outputs": [],
   "source": [
    "l = []\n",
    "for i in range(10):\n",
    "    l.append(2*i+1)\n",
    "l"
   ]
  },
  {
   "cell_type": "markdown",
   "metadata": {},
   "source": [
    "One-liner equivalent"
   ]
  },
  {
   "cell_type": "code",
   "execution_count": 2,
   "metadata": {},
   "outputs": [],
   "source": [
    "l = [2*i+1 for i in range(10)]\n",
    "l"
   ]
  },
  {
   "cell_type": "markdown",
   "metadata": {},
   "source": [
    "The general form of list comprehension is\n",
    "\n",
    "~~~\n",
    "[<expression> for <element> in <sequence>]\n",
    "~~~\n",
    "\n",
    "conditional expressions can be added to filter the sequence:\n",
    "\n",
    "~~~\n",
    "[<expression> for <element> in <sequence> if <condition>]\n",
    "~~~"
   ]
  },
  {
   "cell_type": "code",
   "execution_count": 3,
   "metadata": {},
   "outputs": [],
   "source": [
    "even = [n*n for n in range(20) if n % 2 == 0]\n",
    "even"
   ]
  },
  {
   "cell_type": "markdown",
   "metadata": {},
   "source": [
    "Which is equivalent to"
   ]
  },
  {
   "cell_type": "code",
   "execution_count": 4,
   "metadata": {},
   "outputs": [],
   "source": [
    "even = []\n",
    "for n in range(20):\n",
    "    if n % 2 == 0:\n",
    "        even.append(n)\n",
    "even"
   ]
  },
  {
   "cell_type": "markdown",
   "metadata": {},
   "source": [
    "- Since this expression implements a filtering mechanism, there is no `else` clause.\n",
    "\n",
    "- An if-else clause can be used as the first expression though:"
   ]
  },
  {
   "cell_type": "code",
   "execution_count": 5,
   "metadata": {},
   "outputs": [],
   "source": [
    "l = [1, 0, -2, 3, -1, -5, 0]\n",
    "\n",
    "signum_l = [int(n / abs(n)) if n != 0 else 0 for n in l]\n",
    "signum_l"
   ]
  },
  {
   "cell_type": "code",
   "execution_count": 6,
   "metadata": {},
   "outputs": [],
   "source": [
    "n = -3.2\n",
    "int(n / abs(n)) if n != 0 else 0"
   ]
  },
  {
   "cell_type": "markdown",
   "metadata": {},
   "source": [
    "More than one sequence may be traversed. Is this depth-first or breadth-first traversal?"
   ]
  },
  {
   "cell_type": "code",
   "execution_count": 7,
   "metadata": {},
   "outputs": [],
   "source": [
    "l1 = [1, 2, 3]\n",
    "l2 = [4, 5, 6]\n",
    "\n",
    "[(i, j) for i in l1 for j in l2]"
   ]
  },
  {
   "cell_type": "code",
   "execution_count": 8,
   "metadata": {},
   "outputs": [],
   "source": [
    "for i in l1:\n",
    "    for j in l2:\n",
    "        print((i, j))"
   ]
  },
  {
   "cell_type": "markdown",
   "metadata": {},
   "source": [
    "List comprehensions may be nested by replacing the first expression with another list comprehension:"
   ]
  },
  {
   "cell_type": "code",
   "execution_count": 9,
   "metadata": {},
   "outputs": [],
   "source": [
    "matrix = [\n",
    "    [1, 2, 3],\n",
    "    [5, 6, 7]\n",
    "]\n",
    "\n",
    "[[e*e for e in row] for row in matrix]"
   ]
  },
  {
   "cell_type": "markdown",
   "metadata": {},
   "source": [
    "But don't go overboard:"
   ]
  },
  {
   "cell_type": "code",
   "execution_count": 10,
   "metadata": {},
   "outputs": [],
   "source": [
    "import random\n",
    "\n",
    "[[[random.randint(1, 5) for k in range(3)] for j in range(2)] for i in range(5)]"
   ]
  },
  {
   "cell_type": "markdown",
   "metadata": {},
   "source": [
    "What is the type of a (list) comprehension?"
   ]
  },
  {
   "cell_type": "code",
   "execution_count": 11,
   "metadata": {},
   "outputs": [],
   "source": [
    "gen = (i for i in range(10))\n",
    "type(gen), gen"
   ]
  },
  {
   "cell_type": "markdown",
   "metadata": {},
   "source": [
    "# Generator expressions\n",
    "\n",
    "Generator expressions are a generalization of list comprehension. They were introduced in PEP 289 in 2002.\n",
    "\n",
    "Check out the memory consumption of these cells."
   ]
  },
  {
   "cell_type": "code",
   "execution_count": 12,
   "metadata": {},
   "outputs": [
    {
     "name": "stdout",
     "output_type": "stream",
     "text": [
      "9999999900000000\n"
     ]
    }
   ],
   "source": [
    "N = 8\n",
    "s = sum([i*2 for i in range(int(10**N))])\n",
    "print(s)"
   ]
  },
  {
   "cell_type": "code",
   "execution_count": 13,
   "metadata": {},
   "outputs": [
    {
     "name": "stdout",
     "output_type": "stream",
     "text": [
      "9999999900000000\n"
     ]
    }
   ],
   "source": [
    "s = sum(i*2 for i in range(int(10**N)))\n",
    "print(s)"
   ]
  },
  {
   "cell_type": "markdown",
   "metadata": {},
   "source": [
    "Generators do not generate a list in memory:"
   ]
  },
  {
   "cell_type": "code",
   "execution_count": 14,
   "metadata": {},
   "outputs": [
    {
     "data": {
      "text/plain": [
       "<generator object <genexpr> at 0x7fb9c81f1970>"
      ]
     },
     "execution_count": 14,
     "metadata": {},
     "output_type": "execute_result"
    }
   ],
   "source": [
    "even_numbers = (2*n for n in range(10))\n",
    "even_numbers"
   ]
  },
  {
   "cell_type": "markdown",
   "metadata": {},
   "source": [
    "Therefore they can only be traversed once:"
   ]
  },
  {
   "cell_type": "code",
   "execution_count": 15,
   "metadata": {},
   "outputs": [
    {
     "name": "stdout",
     "output_type": "stream",
     "text": [
      "0\n",
      "2\n",
      "4\n",
      "6\n",
      "8\n",
      "10\n",
      "12\n",
      "14\n",
      "16\n",
      "18\n"
     ]
    }
   ],
   "source": [
    "for num in even_numbers:\n",
    "    print(num)"
   ]
  },
  {
   "cell_type": "markdown",
   "metadata": {},
   "source": [
    "The generator is empty after the first run:"
   ]
  },
  {
   "cell_type": "code",
   "execution_count": 16,
   "metadata": {},
   "outputs": [],
   "source": [
    "for num in even_numbers:\n",
    "    print(num)"
   ]
  },
  {
   "cell_type": "markdown",
   "metadata": {},
   "source": [
    "Calling `next()` raises a `StopIteration` exception"
   ]
  },
  {
   "cell_type": "code",
   "execution_count": 17,
   "metadata": {},
   "outputs": [
    {
     "name": "stdout",
     "output_type": "stream",
     "text": [
      "0\n",
      "2\n",
      "4\n",
      "6\n",
      "8\n",
      "10\n",
      "12\n",
      "14\n",
      "16\n",
      "18\n"
     ]
    }
   ],
   "source": [
    "even_numbers = (2*n for n in range(10))\n",
    "\n",
    "while True:\n",
    "    try:\n",
    "        print(next(even_numbers))\n",
    "    except StopIteration:\n",
    "        break"
   ]
  },
  {
   "cell_type": "code",
   "execution_count": 18,
   "metadata": {},
   "outputs": [],
   "source": [
    "# next(even_numbers)  # raises StopIteration"
   ]
  },
  {
   "cell_type": "markdown",
   "metadata": {},
   "source": [
    "These are actually the defining properties of the **iteration protocol**:"
   ]
  },
  {
   "cell_type": "markdown",
   "metadata": {},
   "source": [
    "# Iteration protocol\n",
    "\n",
    "A class satisfies the iteration protocol if:\n",
    "\n",
    "1. it has a `__iter__` function that returns and iterator, which\n",
    "1. has a `__next__` function,\n",
    "2. which raises a `StopIteration` after a certain number of iterations.\n",
    "\n",
    "For loops use the iteration protocol.\n",
    "\n",
    "A minimal iterator looks like this:"
   ]
  },
  {
   "cell_type": "code",
   "execution_count": 19,
   "metadata": {},
   "outputs": [
    {
     "name": "stdout",
     "output_type": "stream",
     "text": [
      "Iterate once\n",
      "Returning 2\n",
      "2\n",
      "Returning 1\n",
      "1\n",
      "Returning 0\n",
      "0\n",
      "Iterate the second time\n",
      "Returning 2\n",
      "2\n",
      "Returning 1\n",
      "1\n",
      "Returning 0\n",
      "0\n"
     ]
    }
   ],
   "source": [
    "class MyIterator:\n",
    "    def __init__(self, iter_no):\n",
    "        self.iter_no = iter_no\n",
    "        self._i = iter_no\n",
    "        \n",
    "    def __iter__(self):\n",
    "        return self\n",
    "    \n",
    "    def __next__(self):\n",
    "        if self._i <= 0:\n",
    "            self._i = self.iter_no\n",
    "            raise StopIteration()\n",
    "        self._i -= 1\n",
    "        print(\"Returning {}\".format(self._i))\n",
    "        return self._i\n",
    "    \n",
    "myiter = MyIterator(3)\n",
    "print(\"Iterate once\")\n",
    "for i in myiter:\n",
    "    print(i)\n",
    "print(\"Iterate the second time\")\n",
    "for i in myiter:\n",
    "    print(i)"
   ]
  },
  {
   "cell_type": "markdown",
   "metadata": {},
   "source": [
    "The built-in functions `min`, `max` and `sum` use the iteration protocol:"
   ]
  },
  {
   "cell_type": "code",
   "execution_count": 20,
   "metadata": {},
   "outputs": [
    {
     "name": "stdout",
     "output_type": "stream",
     "text": [
      "2\n",
      "1\n",
      "100\n",
      "max(a) = 100\n",
      "min(a) = 1\n",
      "sum(a) = 103\n"
     ]
    }
   ],
   "source": [
    "class AbsoluteNumberContainer:\n",
    "    def __init__(self, numbers):\n",
    "        self.numbers = []\n",
    "        for n in numbers:\n",
    "            self.numbers.append(abs(n))\n",
    "        self._i = 0\n",
    "            \n",
    "    def __iter__(self):\n",
    "        # Could be implemented with this line without __next__:\n",
    "        # return iter(self.numbers)\n",
    "        return self\n",
    "    \n",
    "    def __next__(self):\n",
    "        if self._i >= len(self.numbers):\n",
    "            # Reset the loop variable for the next iteration.\n",
    "            self._i = 0\n",
    "            raise StopIteration()\n",
    "        self._i += 1\n",
    "        return self.numbers[self._i - 1]\n",
    "    \n",
    "    \n",
    "a = AbsoluteNumberContainer([-2, 1, -100])\n",
    "for n in a:\n",
    "    print(n)\n",
    "    \n",
    "print(f\"{max(a) = }\\n{min(a) = }\\n{sum(a) = }\")"
   ]
  },
  {
   "cell_type": "markdown",
   "metadata": {},
   "source": [
    "# Set and dict comprehension\n",
    "\n",
    "Sets and dictionaries can be instantiated via generator expressions too.\n",
    "\n",
    "A generator expression between curly brackets instantiates a set:"
   ]
  },
  {
   "cell_type": "code",
   "execution_count": 21,
   "metadata": {},
   "outputs": [
    {
     "data": {
      "text/plain": [
       "(set, 3, {'Apple', 'Pear', 'Plum'})"
      ]
     },
     "execution_count": 21,
     "metadata": {},
     "output_type": "execute_result"
    }
   ],
   "source": [
    "fruit_list = [\"apple\", \"plum\", \"apple\", \"pear\"]\n",
    "\n",
    "fruits = {fruit.title() for fruit in fruit_list}\n",
    "\n",
    "type(fruits), len(fruits), fruits"
   ]
  },
  {
   "cell_type": "markdown",
   "metadata": {},
   "source": [
    "If the expression in the generator is a key-value pair separated by a colon, it instantiates a dictionary:"
   ]
  },
  {
   "cell_type": "code",
   "execution_count": 22,
   "metadata": {},
   "outputs": [
    {
     "data": {
      "text/plain": [
       "(dict, 3, {'apple': 5, 'plum': 4, 'pear': 4})"
      ]
     },
     "execution_count": 22,
     "metadata": {},
     "output_type": "execute_result"
    }
   ],
   "source": [
    "word_list = [\"apple\", \"plum\", \"pear\", \"apple\", \"apple\"]\n",
    "word_length = {word: len(word) for word in word_list}\n",
    "type(word_length), len(word_length), word_length"
   ]
  },
  {
   "cell_type": "code",
   "execution_count": 23,
   "metadata": {},
   "outputs": [
    {
     "data": {
      "text/plain": [
       "{'a': 'avocado', 'p': 'pear'}"
      ]
     },
     "execution_count": 23,
     "metadata": {},
     "output_type": "execute_result"
    }
   ],
   "source": [
    "word_list = [\"apple\", \"plum\", \"pear\", \"avocado\"]\n",
    "first_letters = {word[0]: word for word in word_list}\n",
    "first_letters"
   ]
  },
  {
   "cell_type": "code",
   "execution_count": 24,
   "metadata": {},
   "outputs": [
    {
     "name": "stdout",
     "output_type": "stream",
     "text": [
      "a avocado\n",
      "p pear\n"
     ]
    }
   ],
   "source": [
    "for letter, fruit in first_letters.items():\n",
    "    print(letter, fruit)"
   ]
  },
  {
   "cell_type": "markdown",
   "metadata": {},
   "source": [
    "# `yield` keyword\n",
    "\n",
    "- If a function uses `yield` instead of return, it becomes a **generator function**.\n",
    "- `yield` temporarily gives back the execution to the caller.\n",
    "- The generator function continues where it left off after `next` returns:"
   ]
  },
  {
   "cell_type": "code",
   "execution_count": 25,
   "metadata": {},
   "outputs": [],
   "source": [
    "def hungarian_vowels():\n",
    "    alphabet = (\"a\", \"á\", \"e\", \"é\", \"i\", \"í\", \"o\", \"ó\",\n",
    "                \"ö\", \"ő\", \"u\", \"ú\", \"ü\", \"ű\")\n",
    "    for vowel in alphabet:\n",
    "        yield vowel"
   ]
  },
  {
   "cell_type": "markdown",
   "metadata": {},
   "source": [
    "this function returns a generator object"
   ]
  },
  {
   "cell_type": "code",
   "execution_count": 26,
   "metadata": {},
   "outputs": [
    {
     "data": {
      "text/plain": [
       "generator"
      ]
     },
     "execution_count": 26,
     "metadata": {},
     "output_type": "execute_result"
    }
   ],
   "source": [
    "type(hungarian_vowels())"
   ]
  },
  {
   "cell_type": "code",
   "execution_count": 27,
   "metadata": {},
   "outputs": [
    {
     "name": "stdout",
     "output_type": "stream",
     "text": [
      "a\n",
      "á\n",
      "e\n",
      "é\n",
      "i\n",
      "í\n",
      "o\n",
      "ó\n",
      "ö\n",
      "ő\n",
      "u\n",
      "ú\n",
      "ü\n",
      "ű\n"
     ]
    }
   ],
   "source": [
    "for vowel in hungarian_vowels():\n",
    "    print(vowel)"
   ]
  },
  {
   "cell_type": "code",
   "execution_count": 28,
   "metadata": {},
   "outputs": [
    {
     "name": "stdout",
     "output_type": "stream",
     "text": [
      "one\n",
      "two\n",
      "three\n"
     ]
    }
   ],
   "source": [
    "def dummy_generator():\n",
    "    yield \"one\"\n",
    "    yield \"two\"\n",
    "    yield \"three\"\n",
    "    \n",
    "for e in dummy_generator():\n",
    "    print(e)"
   ]
  },
  {
   "cell_type": "markdown",
   "metadata": {},
   "source": [
    "They can only iterated once:"
   ]
  },
  {
   "cell_type": "code",
   "execution_count": 29,
   "metadata": {},
   "outputs": [
    {
     "name": "stdout",
     "output_type": "stream",
     "text": [
      "first iteration: a, á, e, é, i, í, o, ó, ö, ő, u, ú, ü, ű\n",
      "second iteration: \n"
     ]
    }
   ],
   "source": [
    "gen = hungarian_vowels()\n",
    "\n",
    "print(\"first iteration: {}\".format(\", \".join(gen)))\n",
    "print(\"second iteration: {}\".format(\", \".join(gen)))"
   ]
  },
  {
   "cell_type": "markdown",
   "metadata": {},
   "source": [
    "The `next` function returns the next element of the generator.\n",
    "A `StopIteration` is raised when no more elements are left:"
   ]
  },
  {
   "cell_type": "code",
   "execution_count": 30,
   "metadata": {},
   "outputs": [
    {
     "name": "stdout",
     "output_type": "stream",
     "text": [
      "The next element is a\n",
      "The next element is á\n",
      "The next element is e\n",
      "The next element is é\n",
      "The next element is i\n",
      "The next element is í\n",
      "The next element is o\n",
      "The next element is ó\n",
      "The next element is ö\n",
      "The next element is ő\n",
      "The next element is u\n",
      "The next element is ú\n",
      "The next element is ü\n",
      "The next element is ű\n",
      "No more elements left :(\n"
     ]
    }
   ],
   "source": [
    "gen = hungarian_vowels()\n",
    "\n",
    "while True:\n",
    "    try:\n",
    "        print(\"The next element is {}\".format(next(gen)))\n",
    "    except StopIteration:\n",
    "        print(\"No more elements left :(\")\n",
    "        break"
   ]
  },
  {
   "cell_type": "markdown",
   "metadata": {},
   "source": [
    "The generator function returns a new generator object every time it's called:"
   ]
  },
  {
   "cell_type": "code",
   "execution_count": 31,
   "metadata": {},
   "outputs": [
    {
     "name": "stdout",
     "output_type": "stream",
     "text": [
      "False\n",
      "gen1 first time: ['a', 'á', 'e', 'é', 'i', 'í', 'o', 'ó', 'ö', 'ő', 'u', 'ú', 'ü', 'ű']\n",
      "gen1 second time: []\n",
      "gen2 first time: ['a', 'á', 'e', 'é', 'i', 'í', 'o', 'ó', 'ö', 'ő', 'u', 'ú', 'ü', 'ű']\n"
     ]
    }
   ],
   "source": [
    "gen1 = hungarian_vowels()\n",
    "gen2 = hungarian_vowels()\n",
    "\n",
    "print(gen1 is gen2)\n",
    "print(\"gen1 first time:\", list(gen1))\n",
    "print(\"gen1 second time:\", list(gen1))\n",
    "print(\"gen2 first time:\", list(gen2))"
   ]
  },
  {
   "cell_type": "markdown",
   "metadata": {},
   "source": [
    "Iterators can only be traversed forward, but we can easily wrap an iterator to have memory:"
   ]
  },
  {
   "cell_type": "code",
   "execution_count": 32,
   "metadata": {},
   "outputs": [],
   "source": [
    "def iter_with_memory(orig_iter):\n",
    "    prev = None\n",
    "    for current in orig_iter:\n",
    "        yield current, prev\n",
    "        prev = current"
   ]
  },
  {
   "cell_type": "code",
   "execution_count": 33,
   "metadata": {},
   "outputs": [
    {
     "name": "stdout",
     "output_type": "stream",
     "text": [
      "('a', None)\n",
      "('á', 'a')\n",
      "('e', 'á')\n",
      "('é', 'e')\n",
      "('i', 'é')\n",
      "('í', 'i')\n",
      "('o', 'í')\n",
      "('ó', 'o')\n",
      "('ö', 'ó')\n",
      "('ő', 'ö')\n",
      "('u', 'ő')\n",
      "('ú', 'u')\n",
      "('ü', 'ú')\n",
      "('ű', 'ü')\n"
     ]
    }
   ],
   "source": [
    "for i in iter_with_memory(hungarian_vowels()):\n",
    "    print(i)"
   ]
  },
  {
   "cell_type": "markdown",
   "metadata": {},
   "source": [
    "## Applications\n",
    "\n",
    "Generator expressions can be particularly useful for formatted output. We will demonstrate this through a few examples."
   ]
  },
  {
   "cell_type": "code",
   "execution_count": 34,
   "metadata": {},
   "outputs": [
    {
     "name": "stdout",
     "output_type": "stream",
     "text": [
      "1, -2, 3, 1\n"
     ]
    }
   ],
   "source": [
    "numbers = [1, -2, 3, 1]\n",
    "\n",
    "# print(\", \".join(numbers))  # raises TypeError\n",
    "print(\", \".join(str(number) for number in numbers))"
   ]
  },
  {
   "cell_type": "code",
   "execution_count": 35,
   "metadata": {},
   "outputs": [],
   "source": [
    "shopping_list = [\"apple\", \"plum\", \"pear\"]"
   ]
  },
  {
   "cell_type": "markdown",
   "metadata": {},
   "source": [
    "~~~\n",
    "The shopping list is:\n",
    "item 1: apple\n",
    "item 2: plum\n",
    "item 3: pear\n",
    "~~~"
   ]
  },
  {
   "cell_type": "code",
   "execution_count": 36,
   "metadata": {},
   "outputs": [
    {
     "name": "stdout",
     "output_type": "stream",
     "text": [
      "The shopping list is:\n",
      "item 1: apple\n",
      "item 2: plum\n",
      "item 3: pear\n"
     ]
    }
   ],
   "source": [
    "shopping_list = [\"apple\", \"plum\", \"pear\"]\n",
    "\n",
    "print(\"The shopping list is:\\n{}\".format(\n",
    "    \"\\n\".join(\n",
    "        f\"item {idx+1}: {element}\"\n",
    "        for idx, element in enumerate(shopping_list))\n",
    "))"
   ]
  },
  {
   "cell_type": "markdown",
   "metadata": {},
   "source": [
    "__Print the following shopping list with quantities.__\n",
    "\n",
    "For example:\n",
    "\n",
    "~~~\n",
    "item 1: apple, quantity: 2\n",
    "item 2: pear, quantity: 1\n",
    "~~~"
   ]
  },
  {
   "cell_type": "code",
   "execution_count": 37,
   "metadata": {},
   "outputs": [
    {
     "name": "stdout",
     "output_type": "stream",
     "text": [
      "item 1: apple, quantity: 2\n",
      "item 2: pear, quantity: 1\n",
      "item 3: plum, quantity: 5\n"
     ]
    }
   ],
   "source": [
    "shopping_list = {\n",
    "    \"apple\": 2,\n",
    "    \"pear\": 1,\n",
    "    \"plum\": 5,\n",
    "}\n",
    "# TODO\n",
    "print(\n",
    "    \"\\n\".join(\n",
    "        f\"item {idx+1}: {element}, quantity: {quantity}\"\n",
    "        for idx, (element, quantity) in enumerate(shopping_list.items()))\n",
    ")"
   ]
  },
  {
   "cell_type": "markdown",
   "metadata": {},
   "source": [
    "__Print the same format in alphabetical order.__\n",
    "\n",
    "Decreasing order by quantity:"
   ]
  },
  {
   "cell_type": "code",
   "execution_count": 38,
   "metadata": {},
   "outputs": [
    {
     "name": "stdout",
     "output_type": "stream",
     "text": [
      "item 1: plum, quantity: 5\n",
      "item 2: apple, quantity: 2\n",
      "item 3: pear, quantity: 1\n"
     ]
    }
   ],
   "source": [
    "shopping_list = {\n",
    "    \"apple\": 2,\n",
    "    \"pear\": 1,\n",
    "    \"plum\": 5,\n",
    "}\n",
    "# TODO\n",
    "print(\n",
    "    \"\\n\".join(\n",
    "        f\"item {idx+1}: {element}, quantity: {quantity}\"\n",
    "        for idx, (element, quantity) in enumerate(\n",
    "            sorted(shopping_list.items(), key=lambda x: -x[1])))\n",
    "            # sorted(shopping_list.items(), key=itemgetter...\n",
    ")"
   ]
  },
  {
   "cell_type": "markdown",
   "metadata": {
    "collapsed": true
   },
   "source": [
    "# Context managers\n",
    "\n",
    "There are two types of resources: managed and unmanaged.\n",
    "\n",
    "__Managed resources__\n",
    "\n",
    "- Resource acquisition and release are automatically done.\n",
    "- No need for manual resource management.\n",
    "- Example: memory\n",
    "\n",
    "__Unmanaged resources__\n",
    "\n",
    "- Unmanaged resources need explicit release.\n",
    "- Otherwise the operating system may run out of the resource.\n",
    "- Examples include files, network sockets.\n",
    "\n",
    "- C++ has both managed and unmanaged memory management. The stack is managed, but the heap is not, we need to manually call `new` and `delete`."
   ]
  },
  {
   "cell_type": "code",
   "execution_count": 39,
   "metadata": {},
   "outputs": [
    {
     "data": {
      "text/plain": [
       "4051"
      ]
     },
     "execution_count": 39,
     "metadata": {},
     "output_type": "execute_result"
    }
   ],
   "source": [
    "fh = []\n",
    "while True:\n",
    "    try:\n",
    "        fh.append(open(\"abc.txt\", \"w\"))\n",
    "    except OSError:\n",
    "        break\n",
    "len(fh)"
   ]
  },
  {
   "cell_type": "markdown",
   "metadata": {},
   "source": [
    "We can't open more files:"
   ]
  },
  {
   "cell_type": "code",
   "execution_count": 40,
   "metadata": {},
   "outputs": [
    {
     "data": {
      "text/plain": [
       "(4051, 0)"
      ]
     },
     "execution_count": 40,
     "metadata": {},
     "output_type": "execute_result"
    },
    {
     "name": "stdout",
     "output_type": "stream",
     "text": [
      "The history saving thread hit an unexpected error (OperationalError('unable to open database file')).History will not be written to the database."
     ]
    },
    {
     "name": "stderr",
     "output_type": "stream",
     "text": [
      "Exception in thread Exception in threading.excepthook:Exception ignored in thread started byException ignored in sys.unraisablehook"
     ]
    }
   ],
   "source": [
    "fh2 = []\n",
    "while True:\n",
    "    try:\n",
    "        fh2.append(open(\"abc.txt\", \"w\"))\n",
    "    except OSError:\n",
    "        break\n",
    "len(fh), len(fh2)"
   ]
  },
  {
   "cell_type": "code",
   "execution_count": 41,
   "metadata": {},
   "outputs": [],
   "source": [
    "for f in fh:\n",
    "    f.close()"
   ]
  },
  {
   "cell_type": "markdown",
   "metadata": {},
   "source": [
    "- We need to manually close the file.\n",
    "- What happens when an exception occurs?"
   ]
  },
  {
   "cell_type": "code",
   "execution_count": 42,
   "metadata": {},
   "outputs": [],
   "source": [
    "s1 = \"important text\"\n",
    "fh = open(\"file.txt\", \"w\")\n",
    "# fh.write(s2)  # raises NameError\n",
    "fh.close()"
   ]
  },
  {
   "cell_type": "markdown",
   "metadata": {},
   "source": [
    "- The file is never closed, the file descriptor **is leaked**.\n",
    "- A solution would be to use try-except blocks with `finally` clauses."
   ]
  },
  {
   "cell_type": "code",
   "execution_count": 43,
   "metadata": {},
   "outputs": [
    {
     "name": "stdout",
     "output_type": "stream",
     "text": [
      "Closing file\n"
     ]
    },
    {
     "name": "stderr",
     "output_type": "stream",
     "text": [
      "NameError happened"
     ]
    }
   ],
   "source": [
    "from sys import stderr\n",
    "\n",
    "fh = open(\"file.txt\", \"w\")\n",
    "try:\n",
    "    fh.write(important_variable)\n",
    "except Exception as e:\n",
    "    stderr.write(\"{0} happened\".format(type(e).__name__))\n",
    "finally:\n",
    "    print(\"Closing file\")\n",
    "    fh.close()"
   ]
  },
  {
   "cell_type": "markdown",
   "metadata": {},
   "source": [
    "__Context managers handle this automatically__\n",
    "\n",
    "- The `with` keyword opens a resource,\n",
    "- keeps it open until the execution leaves with's scope,\n",
    "- releases the resource regardless whether an exception is raised or not."
   ]
  },
  {
   "cell_type": "code",
   "execution_count": 44,
   "metadata": {},
   "outputs": [],
   "source": [
    "with open(\"file.txt\", \"w\") as fh:\n",
    "    fh.write(\"abc\\n\")\n",
    "    # fh.write(important_variable)  # raises NameError"
   ]
  },
  {
   "cell_type": "markdown",
   "metadata": {},
   "source": [
    "`file.txt` is no longer open:"
   ]
  },
  {
   "cell_type": "code",
   "execution_count": 45,
   "metadata": {},
   "outputs": [],
   "source": [
    "# fh.write(\"ab\") # raises ValueError: I/O operation on closed file."
   ]
  },
  {
   "cell_type": "markdown",
   "metadata": {},
   "source": [
    "## Defining context managers\n",
    "\n",
    "Any class can be a context manager if it implements:\n",
    "  1. `__enter__`: runs at the beginning of the `with`. Returns the resource.\n",
    "  1. `__exit__`: runs after the with block. Releases the resource."
   ]
  },
  {
   "cell_type": "code",
   "execution_count": 46,
   "metadata": {},
   "outputs": [
    {
     "name": "stdout",
     "output_type": "stream",
     "text": [
      "Dummy resource acquired\n",
      "Resource: 42\n",
      "Dummy resource released\n"
     ]
    }
   ],
   "source": [
    "class DummyContextManager:\n",
    "    def __init__(self, value):\n",
    "        self.value = value\n",
    "        \n",
    "    def __enter__(self):\n",
    "        print(\"Dummy resource acquired\")\n",
    "        return self.value\n",
    "    \n",
    "    def __exit__(self, *args):\n",
    "        print(\"Dummy resource released\")\n",
    "        \n",
    "with DummyContextManager(42) as d:\n",
    "    print(\"Resource: {}\".format(d))"
   ]
  },
  {
   "cell_type": "markdown",
   "metadata": {},
   "source": [
    "`__exit__` takes 3 extra arguments that describe the exception: `exc_type`, `exc_value`, `traceback`"
   ]
  },
  {
   "cell_type": "code",
   "execution_count": 47,
   "metadata": {},
   "outputs": [
    {
     "name": "stdout",
     "output_type": "stream",
     "text": [
      "Dummy resource acquired\n",
      "42\n",
      "Dummy resource released\n"
     ]
    }
   ],
   "source": [
    "class DummyContextManager:\n",
    "    def __init__(self, value):\n",
    "        self.value = value\n",
    "        \n",
    "    def __enter__(self):\n",
    "        print(\"Dummy resource acquired\")\n",
    "        return self.value\n",
    "    \n",
    "    def __exit__(self, exc_type, exc_value, traceback):\n",
    "        if exc_type is not None:\n",
    "            print(\"{0} with value {1} caught\\nTraceback: {2}\".format(exc_type, exc_value, traceback))\n",
    "        print(\"Dummy resource released\")\n",
    "        \n",
    "with DummyContextManager(42) as d:\n",
    "    print(d)\n",
    "    # raise ValueError(\"just because I can\")  # __exit__ will be called anyway"
   ]
  },
  {
   "cell_type": "markdown",
   "metadata": {},
   "source": [
    "# Functional Python: map, filter and reduce\n",
    "\n",
    "Python has a few built-in functions that originate from functional programming.\n",
    "\n",
    "## Map\n",
    "\n",
    "`map` applies a _callable_ on each element of a sequence.\n",
    "\n",
    "This can be a function:"
   ]
  },
  {
   "cell_type": "code",
   "execution_count": 48,
   "metadata": {},
   "outputs": [
    {
     "data": {
      "text/plain": [
       "[4, 6, 'abcabc']"
      ]
     },
     "execution_count": 48,
     "metadata": {},
     "output_type": "execute_result"
    }
   ],
   "source": [
    "def double(e):\n",
    "    return e * 2\n",
    "\n",
    "l = [2, 3, \"abc\"]\n",
    "\n",
    "list(map(double, l))"
   ]
  },
  {
   "cell_type": "code",
   "execution_count": 49,
   "metadata": {},
   "outputs": [
    {
     "data": {
      "text/plain": [
       "<map at 0x7fb9ba529040>"
      ]
     },
     "execution_count": 49,
     "metadata": {},
     "output_type": "execute_result"
    }
   ],
   "source": [
    "map(double, l)"
   ]
  },
  {
   "cell_type": "markdown",
   "metadata": {},
   "source": [
    "A `lambda` expression:"
   ]
  },
  {
   "cell_type": "code",
   "execution_count": 50,
   "metadata": {},
   "outputs": [
    {
     "data": {
      "text/plain": [
       "[4, 6, 'abcabc']"
      ]
     },
     "execution_count": 50,
     "metadata": {},
     "output_type": "execute_result"
    }
   ],
   "source": [
    "list(map(lambda x: x * 2, [2, 3, \"abc\"]))"
   ]
  },
  {
   "cell_type": "markdown",
   "metadata": {},
   "source": [
    "Or a class:"
   ]
  },
  {
   "cell_type": "code",
   "execution_count": 51,
   "metadata": {},
   "outputs": [
    {
     "data": {
      "text/plain": [
       "[4, 6, 'abcabc']"
      ]
     },
     "execution_count": 51,
     "metadata": {},
     "output_type": "execute_result"
    }
   ],
   "source": [
    "class Doubler:\n",
    "    def __call__(self, v):\n",
    "        return v * 2\n",
    "\n",
    "doubler_instance = Doubler()\n",
    "\n",
    "list(map(doubler_instance, l))"
   ]
  },
  {
   "cell_type": "code",
   "execution_count": 52,
   "metadata": {},
   "outputs": [],
   "source": [
    "class Multiplier:\n",
    "    def __init__(self, k):\n",
    "        self.k = k\n",
    "        \n",
    "    def __call__(self, v):\n",
    "        return v * k\n",
    "    \n",
    "doubler = Multiplier(2)\n",
    "tripler = Multiplier(3)"
   ]
  },
  {
   "cell_type": "markdown",
   "metadata": {},
   "source": [
    "It's evaluated in a lazy fashion. The return type is an iterable:"
   ]
  },
  {
   "cell_type": "code",
   "execution_count": 53,
   "metadata": {},
   "outputs": [
    {
     "data": {
      "text/plain": [
       "<map at 0x7fb9ba4fe1f0>"
      ]
     },
     "execution_count": 53,
     "metadata": {},
     "output_type": "execute_result"
    }
   ],
   "source": [
    "map(double, l)"
   ]
  },
  {
   "cell_type": "code",
   "execution_count": 54,
   "metadata": {},
   "outputs": [
    {
     "data": {
      "text/plain": [
       "<map at 0x7fb9c81b2a60>"
      ]
     },
     "execution_count": 54,
     "metadata": {},
     "output_type": "execute_result"
    }
   ],
   "source": [
    "class Doubler:\n",
    "    def __call__(self, v):\n",
    "        print(f\"Doubling {v}\")\n",
    "        return v * 2\n",
    "\n",
    "doubler_instance = Doubler()\n",
    "\n",
    "mapped_l = map(doubler_instance, l)\n",
    "mapped_l"
   ]
  },
  {
   "cell_type": "markdown",
   "metadata": {},
   "source": [
    "The actual doubling is only done when its result is needed:"
   ]
  },
  {
   "cell_type": "code",
   "execution_count": 55,
   "metadata": {},
   "outputs": [
    {
     "name": "stdout",
     "output_type": "stream",
     "text": [
      "Doubling 2\n",
      "Doubling 3\n",
      "Doubling abc\n"
     ]
    },
    {
     "data": {
      "text/plain": [
       "[4, 6, 'abcabc']"
      ]
     },
     "execution_count": 55,
     "metadata": {},
     "output_type": "execute_result"
    }
   ],
   "source": [
    "list(mapped_l)"
   ]
  },
  {
   "cell_type": "markdown",
   "metadata": {},
   "source": [
    "The iterator is _empty_ now:"
   ]
  },
  {
   "cell_type": "code",
   "execution_count": 56,
   "metadata": {},
   "outputs": [
    {
     "data": {
      "text/plain": [
       "[]"
      ]
     },
     "execution_count": 56,
     "metadata": {},
     "output_type": "execute_result"
    }
   ],
   "source": [
    "list(mapped_l)"
   ]
  },
  {
   "cell_type": "markdown",
   "metadata": {},
   "source": [
    "## Filter\n",
    "\n",
    "Filter creates a list of elements for which a function returns true."
   ]
  },
  {
   "cell_type": "code",
   "execution_count": 57,
   "metadata": {},
   "outputs": [
    {
     "data": {
      "text/plain": [
       "[2, 0, 2]"
      ]
     },
     "execution_count": 57,
     "metadata": {},
     "output_type": "execute_result"
    }
   ],
   "source": [
    "def is_even(n):\n",
    "    return n % 2 == 0\n",
    "\n",
    "l = [2, 3, -1, 0, 2]\n",
    "\n",
    "list(filter(is_even, l))"
   ]
  },
  {
   "cell_type": "code",
   "execution_count": 58,
   "metadata": {},
   "outputs": [
    {
     "data": {
      "text/plain": [
       "[0, 2, 4, 6]"
      ]
     },
     "execution_count": 58,
     "metadata": {},
     "output_type": "execute_result"
    }
   ],
   "source": [
    "list(filter(lambda x: x % 2 == 0, range(8)))"
   ]
  },
  {
   "cell_type": "code",
   "execution_count": 59,
   "metadata": {},
   "outputs": [
    {
     "data": {
      "text/plain": [
       "(range(0, 12), [0, 1, 2, 3, 4, 5, 6, 7, 8, 9, 10, 11])"
      ]
     },
     "execution_count": 59,
     "metadata": {},
     "output_type": "execute_result"
    }
   ],
   "source": [
    "r = range(12)\n",
    "r, list(r)"
   ]
  },
  {
   "cell_type": "code",
   "execution_count": 60,
   "metadata": {},
   "outputs": [
    {
     "data": {
      "text/plain": [
       "[0, 1, 2, 3, 4, 5, 6, 7, 8, 9, 10, 11]"
      ]
     },
     "execution_count": 60,
     "metadata": {},
     "output_type": "execute_result"
    }
   ],
   "source": [
    "list(r)"
   ]
  },
  {
   "cell_type": "markdown",
   "metadata": {},
   "source": [
    "Most comprehensions can be rewritten using `map` and `filter`:"
   ]
  },
  {
   "cell_type": "code",
   "execution_count": 61,
   "metadata": {},
   "outputs": [
    {
     "data": {
      "text/plain": [
       "[2, 0, 2]"
      ]
     },
     "execution_count": 61,
     "metadata": {},
     "output_type": "execute_result"
    }
   ],
   "source": [
    "l = [2, 3, -1, 0, 2]\n",
    "\n",
    "[x for x in l if x % 2 == 0]"
   ]
  },
  {
   "cell_type": "markdown",
   "metadata": {},
   "source": [
    "Signum example:"
   ]
  },
  {
   "cell_type": "code",
   "execution_count": 62,
   "metadata": {},
   "outputs": [
    {
     "name": "stdout",
     "output_type": "stream",
     "text": [
      "[1.0, 1.0, 0, -1.0, 1.0, 0, 1.0]\n"
     ]
    }
   ],
   "source": [
    "l = [2, 3, 0, -1, 2, 0, 1]\n",
    "\n",
    "signum = [x / abs(x) if x != 0 else x for x in l]\n",
    "print(signum)"
   ]
  },
  {
   "cell_type": "code",
   "execution_count": 63,
   "metadata": {},
   "outputs": [
    {
     "data": {
      "text/plain": [
       "[1.0, 1.0, 0, -1.0, 1.0, 0, 1.0]"
      ]
     },
     "execution_count": 63,
     "metadata": {},
     "output_type": "execute_result"
    }
   ],
   "source": [
    "list(map(lambda x: x / abs(x) if x != 0 else 0, l))"
   ]
  },
  {
   "cell_type": "markdown",
   "metadata": {},
   "source": [
    "## Zip\n",
    "\n",
    "`zip` pairs elements of two iterables:"
   ]
  },
  {
   "cell_type": "code",
   "execution_count": 64,
   "metadata": {},
   "outputs": [
    {
     "name": "stdout",
     "output_type": "stream",
     "text": [
      "('apple', 10)\n",
      "('plum', 2)\n",
      "('pear', 3)\n"
     ]
    }
   ],
   "source": [
    "l1 = [\"apple\", \"plum\", \"pear\"]\n",
    "l2 = [10, 2, 3]\n",
    "\n",
    "for elements in zip(l1, l2):\n",
    "    print(elements)"
   ]
  },
  {
   "cell_type": "markdown",
   "metadata": {},
   "source": [
    "They can have different length:"
   ]
  },
  {
   "cell_type": "code",
   "execution_count": 65,
   "metadata": {},
   "outputs": [
    {
     "name": "stdout",
     "output_type": "stream",
     "text": [
      "apple 10\n",
      "plum 2\n",
      "pear 3\n"
     ]
    }
   ],
   "source": [
    "l1 = [\"apple\", \"plum\", \"pear\"]\n",
    "l2 = [10, 2, 3, -1, -2]\n",
    "\n",
    "for fruit, quantity in zip(l1, l2):\n",
    "    print(fruit, quantity)"
   ]
  },
  {
   "cell_type": "markdown",
   "metadata": {},
   "source": [
    "More generally `zip` transposes a list of iterables:"
   ]
  },
  {
   "cell_type": "code",
   "execution_count": 66,
   "metadata": {},
   "outputs": [
    {
     "name": "stdout",
     "output_type": "stream",
     "text": [
      "(1, 1, -1)\n",
      "(2, 2, -2)\n",
      "(3, 3, -3)\n",
      "(4, 4, -4)\n"
     ]
    }
   ],
   "source": [
    "row1 = [1, 2, 3, 4]\n",
    "row2 = [1, 2, 3, 4]\n",
    "row3 = [-1, -2, -3, -4]\n",
    "\n",
    "for column in zip(row1, row2, row3):\n",
    "    print(column)"
   ]
  },
  {
   "cell_type": "markdown",
   "metadata": {},
   "source": [
    "We can implement matrix transpose with `zip`:"
   ]
  },
  {
   "cell_type": "code",
   "execution_count": 67,
   "metadata": {},
   "outputs": [
    {
     "data": {
      "text/plain": [
       "[[1, 4], [2, 5], [3, 6]]"
      ]
     },
     "execution_count": 67,
     "metadata": {},
     "output_type": "execute_result"
    }
   ],
   "source": [
    "def transpose(mtx):\n",
    "    return list(map(list, zip(*mtx)))\n",
    "    # OR\n",
    "    # return [list(col) for col in zip(*mtx)]\n",
    "\n",
    "\n",
    "mtx = [[1, 2, 3], [4, 5, 6]]\n",
    "\n",
    "transpose(mtx)"
   ]
  },
  {
   "cell_type": "code",
   "execution_count": 68,
   "metadata": {},
   "outputs": [
    {
     "data": {
      "text/plain": [
       "(<zip at 0x7fb9ba534e00>, zip)"
      ]
     },
     "execution_count": 68,
     "metadata": {},
     "output_type": "execute_result"
    }
   ],
   "source": [
    "row1 = [1, 2, 3, 4]\n",
    "row2 = [1, 2, 3, 4]\n",
    "row3 = [-1, -2, -3, -4]\n",
    "z = zip(row1, row2, row2)\n",
    "z, type(z)"
   ]
  },
  {
   "cell_type": "code",
   "execution_count": 69,
   "metadata": {},
   "outputs": [
    {
     "data": {
      "text/plain": [
       "[(1, 1, 1), (2, 2, 2), (3, 3, 3), (4, 4, 4)]"
      ]
     },
     "execution_count": 69,
     "metadata": {},
     "output_type": "execute_result"
    }
   ],
   "source": [
    "list(z)"
   ]
  },
  {
   "cell_type": "code",
   "execution_count": 70,
   "metadata": {},
   "outputs": [],
   "source": [
    "# next(z)  # raises StopIteration"
   ]
  },
  {
   "cell_type": "code",
   "execution_count": null,
   "metadata": {},
   "outputs": [],
   "source": []
  },
  {
   "cell_type": "markdown",
   "metadata": {},
   "source": [
    "## Reduce\n",
    "\n",
    "- Reduce applies a rolling computation on a sequence.\n",
    "- The first argument of `reduce` is two-argument function.\n",
    "- The second argument is the sequence.\n",
    "- The result is accumulated in an accumulator."
   ]
  },
  {
   "cell_type": "code",
   "execution_count": 71,
   "metadata": {},
   "outputs": [
    {
     "data": {
      "text/plain": [
       "-8"
      ]
     },
     "execution_count": 71,
     "metadata": {},
     "output_type": "execute_result"
    }
   ],
   "source": [
    "from functools import reduce\n",
    "\n",
    "l = [1, 2, -1, 4]\n",
    "reduce(lambda x, y: x*y, l)"
   ]
  },
  {
   "cell_type": "markdown",
   "metadata": {},
   "source": [
    "An initial value for the accumulator may be supplied:"
   ]
  },
  {
   "cell_type": "code",
   "execution_count": 72,
   "metadata": {},
   "outputs": [
    {
     "data": {
      "text/plain": [
       "-80"
      ]
     },
     "execution_count": 72,
     "metadata": {},
     "output_type": "execute_result"
    }
   ],
   "source": [
    "reduce(lambda x, y: x*y, l, 10)"
   ]
  },
  {
   "cell_type": "markdown",
   "metadata": {},
   "source": [
    "Finding the maximum with reduce:"
   ]
  },
  {
   "cell_type": "code",
   "execution_count": 73,
   "metadata": {},
   "outputs": [
    {
     "data": {
      "text/plain": [
       "4"
      ]
     },
     "execution_count": 73,
     "metadata": {},
     "output_type": "execute_result"
    }
   ],
   "source": [
    "reduce(lambda x, y: max(x, y), l)"
   ]
  },
  {
   "cell_type": "markdown",
   "metadata": {},
   "source": [
    "Same with the built-in function:"
   ]
  },
  {
   "cell_type": "code",
   "execution_count": 74,
   "metadata": {},
   "outputs": [
    {
     "data": {
      "text/plain": [
       "4"
      ]
     },
     "execution_count": 74,
     "metadata": {},
     "output_type": "execute_result"
    }
   ],
   "source": [
    "reduce(max, l)"
   ]
  },
  {
   "cell_type": "markdown",
   "metadata": {},
   "source": [
    "Summing even numbers only:"
   ]
  },
  {
   "cell_type": "code",
   "execution_count": 75,
   "metadata": {},
   "outputs": [
    {
     "data": {
      "text/plain": [
       "6"
      ]
     },
     "execution_count": 75,
     "metadata": {},
     "output_type": "execute_result"
    }
   ],
   "source": [
    "l = [1, 2, -1, 4]\n",
    "reduce(lambda x, y: x + int(y % 2 == 0) * y, l, 0)"
   ]
  },
  {
   "cell_type": "markdown",
   "metadata": {},
   "source": [
    "Booleans can be summed:"
   ]
  },
  {
   "cell_type": "code",
   "execution_count": 76,
   "metadata": {},
   "outputs": [
    {
     "data": {
      "text/plain": [
       "2"
      ]
     },
     "execution_count": 76,
     "metadata": {},
     "output_type": "execute_result"
    }
   ],
   "source": [
    "sum(e % 2 == 0 for e in l)"
   ]
  },
  {
   "cell_type": "markdown",
   "metadata": {},
   "source": [
    "For historical reasons, they are actually integers:"
   ]
  },
  {
   "cell_type": "code",
   "execution_count": 77,
   "metadata": {},
   "outputs": [
    {
     "data": {
      "text/plain": [
       "(1, 0, True, True)"
      ]
     },
     "execution_count": 77,
     "metadata": {},
     "output_type": "execute_result"
    }
   ],
   "source": [
    "int(True), int(False), isinstance(False, int), isinstance(True, int)"
   ]
  },
  {
   "cell_type": "markdown",
   "metadata": {},
   "source": [
    "# Recommended reading\n",
    "\n",
    "- [Itertools](https://docs.python.org/3.8/library/itertools.html) is a collection of iteration related building blocks.\n",
    "- [Functools](https://docs.python.org/3.8/library/functools.html) is a module for higher order functions."
   ]
  },
  {
   "cell_type": "code",
   "execution_count": null,
   "metadata": {},
   "outputs": [],
   "source": []
  }
 ],
 "metadata": {
  "kernelspec": {
   "display_name": "Python 3",
   "language": "python",
   "name": "python3"
  },
  "language_info": {
   "codemirror_mode": {
    "name": "ipython",
    "version": 3
   },
   "file_extension": ".py",
   "mimetype": "text/x-python",
   "name": "python",
   "nbconvert_exporter": "python",
   "pygments_lexer": "ipython3",
   "version": "3.8.5"
  },
  "toc": {
   "base_numbering": 1,
   "nav_menu": {},
   "number_sections": true,
   "sideBar": true,
   "skip_h1_title": false,
   "title_cell": "Table of Contents",
   "title_sidebar": "Contents",
   "toc_cell": false,
   "toc_position": {
    "height": "calc(100% - 180px)",
    "left": "10px",
    "top": "150px",
    "width": "294.4px"
   },
   "toc_section_display": true,
   "toc_window_display": true
  }
 },
 "nbformat": 4,
 "nbformat_minor": 2
}
